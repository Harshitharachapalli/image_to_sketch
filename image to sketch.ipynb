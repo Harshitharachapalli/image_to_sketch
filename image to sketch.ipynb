{
 "cells": [
  {
   "cell_type": "code",
   "execution_count": 9,
   "id": "8ce6215b",
   "metadata": {},
   "outputs": [
    {
     "name": "stdout",
     "output_type": "stream",
     "text": [
      "Requirement already satisfied: opencv-python in c:\\users\\harshitha reddy r\\anaconda3\\lib\\site-packages (4.8.1.78)\n",
      "Requirement already satisfied: numpy>=1.21.2 in c:\\users\\harshitha reddy r\\anaconda3\\lib\\site-packages (from opencv-python) (1.24.3)\n"
     ]
    }
   ],
   "source": [
    "!pip install opencv-python"
   ]
  },
  {
   "cell_type": "code",
   "execution_count": 11,
   "id": "c85a6295",
   "metadata": {},
   "outputs": [],
   "source": [
    "import cv2"
   ]
  },
  {
   "cell_type": "code",
   "execution_count": 27,
   "id": "32434aa4",
   "metadata": {},
   "outputs": [
    {
     "data": {
      "text/plain": [
       "True"
      ]
     },
     "execution_count": 27,
     "metadata": {},
     "output_type": "execute_result"
    }
   ],
   "source": [
    "image=cv2.imread('D:\\codsoft\\my_portifolia\\pics\\profile1 - Copy.png')\n",
    "gray_image=cv2.cvtColor(image,cv2.COLOR_BGR2GRAY)\n",
    "cv2.imwrite('D:\\codsoft\\my_portifolia\\pics\\profile1 - Copy_gray.png',gray_image)"
   ]
  },
  {
   "cell_type": "code",
   "execution_count": 30,
   "id": "bbbb6096",
   "metadata": {},
   "outputs": [
    {
     "data": {
      "text/plain": [
       "True"
      ]
     },
     "execution_count": 30,
     "metadata": {},
     "output_type": "execute_result"
    }
   ],
   "source": [
    "inverted=225-gray_image\n",
    "blurred=cv2.GaussianBlur(inverted,(21,21),0)\n",
    "cv2.imwrite('D:\\codsoft\\my_portifolia\\pics\\profile1 - Copy_blur.png',blurred)"
   ]
  },
  {
   "cell_type": "code",
   "execution_count": 31,
   "id": "9bd0688b",
   "metadata": {},
   "outputs": [
    {
     "data": {
      "text/plain": [
       "True"
      ]
     },
     "execution_count": 31,
     "metadata": {},
     "output_type": "execute_result"
    }
   ],
   "source": [
    "invertedblur=225-blurred\n",
    "pencilsketch=cv2.divide(gray_image,invertedblur,scale=256.0)\n",
    "cv2.imwrite('D:\\codsoft\\my_portifolia\\pics\\profile1 - Copy.png',pencilsketch)"
   ]
  },
  {
   "cell_type": "code",
   "execution_count": null,
   "id": "f5b3a8b9",
   "metadata": {},
   "outputs": [],
   "source": []
  }
 ],
 "metadata": {
  "kernelspec": {
   "display_name": "Python 3 (ipykernel)",
   "language": "python",
   "name": "python3"
  },
  "language_info": {
   "codemirror_mode": {
    "name": "ipython",
    "version": 3
   },
   "file_extension": ".py",
   "mimetype": "text/x-python",
   "name": "python",
   "nbconvert_exporter": "python",
   "pygments_lexer": "ipython3",
   "version": "3.11.4"
  }
 },
 "nbformat": 4,
 "nbformat_minor": 5
}
